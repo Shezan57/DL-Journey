{
 "cells": [
  {
   "cell_type": "code",
   "execution_count": 2,
   "id": "d83ca23c-6923-4745-94da-cf214ce7f85c",
   "metadata": {},
   "outputs": [],
   "source": [
    "import pandas as pd\n",
    "import numpy as np"
   ]
  },
  {
   "cell_type": "code",
   "execution_count": 27,
   "id": "de417b28-b5fe-438a-883e-03af1212865d",
   "metadata": {},
   "outputs": [],
   "source": [
    "df = pd.DataFrame([[8,8,1],[7,9,1],[6,8,0],[5,5,0]], columns=['cgpa','profile_score','placed'])"
   ]
  },
  {
   "cell_type": "code",
   "execution_count": 29,
   "id": "b8d2679f-d3d7-4511-83c4-c6285437d3a5",
   "metadata": {},
   "outputs": [
    {
     "data": {
      "text/html": [
       "<div>\n",
       "<style scoped>\n",
       "    .dataframe tbody tr th:only-of-type {\n",
       "        vertical-align: middle;\n",
       "    }\n",
       "\n",
       "    .dataframe tbody tr th {\n",
       "        vertical-align: top;\n",
       "    }\n",
       "\n",
       "    .dataframe thead th {\n",
       "        text-align: right;\n",
       "    }\n",
       "</style>\n",
       "<table border=\"1\" class=\"dataframe\">\n",
       "  <thead>\n",
       "    <tr style=\"text-align: right;\">\n",
       "      <th></th>\n",
       "      <th>cgpa</th>\n",
       "      <th>profile_score</th>\n",
       "      <th>placed</th>\n",
       "    </tr>\n",
       "  </thead>\n",
       "  <tbody>\n",
       "    <tr>\n",
       "      <th>0</th>\n",
       "      <td>8</td>\n",
       "      <td>8</td>\n",
       "      <td>1</td>\n",
       "    </tr>\n",
       "    <tr>\n",
       "      <th>1</th>\n",
       "      <td>7</td>\n",
       "      <td>9</td>\n",
       "      <td>1</td>\n",
       "    </tr>\n",
       "    <tr>\n",
       "      <th>2</th>\n",
       "      <td>6</td>\n",
       "      <td>8</td>\n",
       "      <td>0</td>\n",
       "    </tr>\n",
       "    <tr>\n",
       "      <th>3</th>\n",
       "      <td>5</td>\n",
       "      <td>5</td>\n",
       "      <td>0</td>\n",
       "    </tr>\n",
       "  </tbody>\n",
       "</table>\n",
       "</div>"
      ],
      "text/plain": [
       "   cgpa  profile_score  placed\n",
       "0     8              8       1\n",
       "1     7              9       1\n",
       "2     6              8       0\n",
       "3     5              5       0"
      ]
     },
     "execution_count": 29,
     "metadata": {},
     "output_type": "execute_result"
    }
   ],
   "source": [
    "df"
   ]
  },
  {
   "cell_type": "code",
   "execution_count": 31,
   "id": "090afc14-f7fc-48df-9910-e73b291e7cb2",
   "metadata": {},
   "outputs": [],
   "source": [
    "def initialize_parameters(layer_dims):\n",
    "    np.random.seed(3)\n",
    "    parameters = {}\n",
    "    L = len(layer_dims)\n",
    "    for l in range(1,L):\n",
    "        parameters['w'+str(l)] = np.ones((layer_dims[l-1], layer_dims[l])) * 0.1\n",
    "        parameters['b'+str(l)] = np.zeros((layer_dims[l-1], 1))\n",
    "    return parameters"
   ]
  },
  {
   "cell_type": "code",
   "execution_count": 33,
   "id": "9ce71f12-eb90-4560-9790-0ba4b212afab",
   "metadata": {},
   "outputs": [],
   "source": [
    "def sigmoid(z):\n",
    "    A = 1/(1+np.exp(-z))\n",
    "    return A"
   ]
  },
  {
   "cell_type": "code",
   "execution_count": 35,
   "id": "7a8170ed-9733-4230-8bc8-4b8f07f09498",
   "metadata": {},
   "outputs": [],
   "source": [
    "def linear_forward(A_prev,w,b):\n",
    "    z = np.dot(w.T,A_prev) + b\n",
    "    a = sigmoid(z)\n",
    "    return a"
   ]
  },
  {
   "cell_type": "code",
   "execution_count": 37,
   "id": "5627a547-da0f-4048-9149-bc17d5bfef08",
   "metadata": {},
   "outputs": [],
   "source": [
    "def L_layer_forward(X,parameters):\n",
    "    A = X\n",
    "    L = len(parameters) // 2\n",
    "    for l in range(1,L+1):\n",
    "        A_prev = A\n",
    "        wl = parameters['w' + str(l)]\n",
    "        bl = parameters['b' + str(l)]\n",
    "        A = linear_forward(A_prev,wl,bl)\n",
    "    return A,A_prev\n",
    "        \n",
    "    "
   ]
  },
  {
   "cell_type": "code",
   "execution_count": 39,
   "id": "14cc672a-18a6-4dfb-ad7a-057e7679e993",
   "metadata": {},
   "outputs": [],
   "source": [
    "def update_parameters(parameters,y,y_hat,A1,X):\n",
    "    parameters['w2'][0][0] = parameters['w2'][0][0] + (0.001 * (y - y_hat) * A1[0][0])\n",
    "    parameters['w2'][1][0] = parameters['w2'][1][0] + (0.001 * (y - y_hat) * A1[1][0])\n",
    "    parameters['b2'][0][0] = parameters['b2'][1][0] + (0.001 * (y - y_hat))\n",
    "    \n",
    "    parameters['w1'][0][0] = parameters['w1'][0][0] + (0.0001 * (y - y_hat)*parameters['w2'][0][0]*A1[0][0]*(1-A1[0][0])*X[0][0])\n",
    "    parameters['w1'][0][1] = parameters['w1'][0][1] + (0.0001 * (y - y_hat)*parameters['w2'][0][0]*A1[0][0]*(1-A1[0][0])*X[1][0])\n",
    "    parameters['b1'][0][0] = parameters['b1'][0][0] + (0.0001 * (y - y_hat)*parameters['w2'][0][0]*A1[0][0]*(1-A1[0][0]))\n",
    "    \n",
    "    parameters['w1'][1][0] = parameters['w1'][1][0] + (0.0001 * (y - y_hat)*parameters['w2'][1][0]*A1[1][0]*(1-A1[1][0])*X[0][0])\n",
    "    parameters['w1'][1][1] = parameters['w1'][1][1] + (0.0001 * (y - y_hat)*parameters['w2'][1][0]*A1[1][0]*(1-A1[1][0])*X[1][0])\n",
    "    parameters['b1'][1][0] = parameters['b1'][1][0] + (0.0001 * (y - y_hat)*parameters['w2'][1][0]*A1[1][0]*(1-A1[1][0]))\n"
   ]
  },
  {
   "cell_type": "code",
   "execution_count": 41,
   "id": "0da1c982-55a1-445e-9416-4630cbcee51e",
   "metadata": {},
   "outputs": [
    {
     "name": "stdout",
     "output_type": "stream",
     "text": [
      "Epoch -  1 Loss -  0.6931714812599318\n",
      "Epoch -  2 Loss -  0.693231020066476\n",
      "Epoch -  3 Loss -  0.6932290538379126\n",
      "Epoch -  4 Loss -  0.6932270926755154\n",
      "Epoch -  5 Loss -  0.6932251365662044\n",
      "Epoch -  6 Loss -  0.6932231854969328\n",
      "Epoch -  7 Loss -  0.6932212394546882\n",
      "Epoch -  8 Loss -  0.6932192984264915\n",
      "Epoch -  9 Loss -  0.6932173623993976\n",
      "Epoch -  10 Loss -  0.6932154313604947\n",
      "Epoch -  11 Loss -  0.6932135052969053\n",
      "Epoch -  12 Loss -  0.6932115841957842\n",
      "Epoch -  13 Loss -  0.6932096680443207\n",
      "Epoch -  14 Loss -  0.6932077568297366\n",
      "Epoch -  15 Loss -  0.6932058505392868\n",
      "Epoch -  16 Loss -  0.69320394916026\n",
      "Epoch -  17 Loss -  0.6932020526799771\n",
      "Epoch -  18 Loss -  0.6932001610857927\n",
      "Epoch -  19 Loss -  0.6931982743650936\n",
      "Epoch -  20 Loss -  0.6931963925052995\n",
      "Epoch -  21 Loss -  0.6931945154938628\n",
      "Epoch -  22 Loss -  0.6931926433182688\n",
      "Epoch -  23 Loss -  0.6931907759660344\n",
      "Epoch -  24 Loss -  0.69318891342471\n",
      "Epoch -  25 Loss -  0.6931870556818773\n",
      "Epoch -  26 Loss -  0.6931852027251512\n",
      "Epoch -  27 Loss -  0.6931833545421779\n",
      "Epoch -  28 Loss -  0.6931815111206361\n",
      "Epoch -  29 Loss -  0.6931796724482364\n",
      "Epoch -  30 Loss -  0.6931778385127214\n",
      "Epoch -  31 Loss -  0.6931760093018651\n",
      "Epoch -  32 Loss -  0.6931741848034738\n",
      "Epoch -  33 Loss -  0.6931723650053849\n",
      "Epoch -  34 Loss -  0.6931705498954678\n",
      "Epoch -  35 Loss -  0.6931687394616232\n",
      "Epoch -  36 Loss -  0.6931669336917832\n",
      "Epoch -  37 Loss -  0.6931651325739109\n",
      "Epoch -  38 Loss -  0.6931633360960011\n",
      "Epoch -  39 Loss -  0.6931615442460797\n",
      "Epoch -  40 Loss -  0.6931597570122033\n",
      "Epoch -  41 Loss -  0.6931579743824599\n",
      "Epoch -  42 Loss -  0.6931561963449682\n",
      "Epoch -  43 Loss -  0.6931544228878775\n",
      "Epoch -  44 Loss -  0.6931526539993684\n",
      "Epoch -  45 Loss -  0.6931508896676519\n",
      "Epoch -  46 Loss -  0.6931491298809691\n",
      "Epoch -  47 Loss -  0.6931473746275922\n",
      "Epoch -  48 Loss -  0.693145623895824\n",
      "Epoch -  49 Loss -  0.6931438776739969\n",
      "Epoch -  50 Loss -  0.6931421359504739\n"
     ]
    },
    {
     "data": {
      "text/plain": [
       "{'w1': array([[0.09996343, 0.09994243],\n",
       "        [0.09996345, 0.09994245]]),\n",
       " 'b1': array([[-3.06232467e-05],\n",
       "        [-3.06220933e-05]]),\n",
       " 'w2': array([[0.09695148],\n",
       "        [0.09695153]]),\n",
       " 'b2': array([[-0.00053538],\n",
       "        [ 0.        ]])}"
      ]
     },
     "execution_count": 41,
     "metadata": {},
     "output_type": "execute_result"
    }
   ],
   "source": [
    "# epochs implementation\n",
    "\n",
    "parameters = initialize_parameters([2,2,1])\n",
    "epochs = 50\n",
    "\n",
    "for i in range(epochs):\n",
    "\n",
    "  Loss = []\n",
    "\n",
    "  for j in range(df.shape[0]):\n",
    "\n",
    "    X = df[['cgpa', 'profile_score']].values[j].reshape(2,1) # Shape(no of features, no. of training example)\n",
    "    y = df[['placed']].values[j][0]\n",
    "\n",
    "    # Parameter initialization\n",
    "\n",
    "\n",
    "    y_hat,A1 = L_layer_forward(X,parameters)\n",
    "    y_hat = y_hat[0][0]\n",
    "\n",
    "    update_parameters(parameters,y,y_hat,A1,X)\n",
    "\n",
    "    Loss.append(-y*np.log(y_hat) - (1-y)*np.log(1-y_hat))\n",
    "\n",
    "  print('Epoch - ',i+1,'Loss - ',np.array(Loss).mean())\n",
    "\n",
    "parameters"
   ]
  },
  {
   "cell_type": "code",
   "execution_count": null,
   "id": "36235318-a90f-4d14-97a6-a98e65331e2b",
   "metadata": {},
   "outputs": [],
   "source": []
  }
 ],
 "metadata": {
  "kernelspec": {
   "display_name": "Python 3 (ipykernel)",
   "language": "python",
   "name": "python3"
  },
  "language_info": {
   "codemirror_mode": {
    "name": "ipython",
    "version": 3
   },
   "file_extension": ".py",
   "mimetype": "text/x-python",
   "name": "python",
   "nbconvert_exporter": "python",
   "pygments_lexer": "ipython3",
   "version": "3.11.7"
  }
 },
 "nbformat": 4,
 "nbformat_minor": 5
}

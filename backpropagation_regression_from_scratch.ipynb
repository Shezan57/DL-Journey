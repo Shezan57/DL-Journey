{
 "cells": [
  {
   "cell_type": "code",
   "execution_count": 58,
   "id": "e155e8e2-8d4d-4d1a-89a2-0ceb5f1be326",
   "metadata": {},
   "outputs": [],
   "source": [
    "import numpy as np\n",
    "import pandas as pd"
   ]
  },
  {
   "cell_type": "code",
   "execution_count": 60,
   "id": "f8165484-9d9c-4fd2-a333-cbacb1e484ab",
   "metadata": {},
   "outputs": [],
   "source": [
    "df = pd.DataFrame([[8,8,4],[7,9,5],[6,10,6],[5,12,7]], columns=['cgpa','profile_score','lpa'])"
   ]
  },
  {
   "cell_type": "code",
   "execution_count": 62,
   "id": "00445c89-6574-4779-a72f-6055c8d62893",
   "metadata": {},
   "outputs": [
    {
     "data": {
      "text/html": [
       "<div>\n",
       "<style scoped>\n",
       "    .dataframe tbody tr th:only-of-type {\n",
       "        vertical-align: middle;\n",
       "    }\n",
       "\n",
       "    .dataframe tbody tr th {\n",
       "        vertical-align: top;\n",
       "    }\n",
       "\n",
       "    .dataframe thead th {\n",
       "        text-align: right;\n",
       "    }\n",
       "</style>\n",
       "<table border=\"1\" class=\"dataframe\">\n",
       "  <thead>\n",
       "    <tr style=\"text-align: right;\">\n",
       "      <th></th>\n",
       "      <th>cgpa</th>\n",
       "      <th>profile_score</th>\n",
       "      <th>lpa</th>\n",
       "    </tr>\n",
       "  </thead>\n",
       "  <tbody>\n",
       "    <tr>\n",
       "      <th>0</th>\n",
       "      <td>8</td>\n",
       "      <td>8</td>\n",
       "      <td>4</td>\n",
       "    </tr>\n",
       "    <tr>\n",
       "      <th>1</th>\n",
       "      <td>7</td>\n",
       "      <td>9</td>\n",
       "      <td>5</td>\n",
       "    </tr>\n",
       "    <tr>\n",
       "      <th>2</th>\n",
       "      <td>6</td>\n",
       "      <td>10</td>\n",
       "      <td>6</td>\n",
       "    </tr>\n",
       "    <tr>\n",
       "      <th>3</th>\n",
       "      <td>5</td>\n",
       "      <td>12</td>\n",
       "      <td>7</td>\n",
       "    </tr>\n",
       "  </tbody>\n",
       "</table>\n",
       "</div>"
      ],
      "text/plain": [
       "   cgpa  profile_score  lpa\n",
       "0     8              8    4\n",
       "1     7              9    5\n",
       "2     6             10    6\n",
       "3     5             12    7"
      ]
     },
     "execution_count": 62,
     "metadata": {},
     "output_type": "execute_result"
    }
   ],
   "source": [
    "df"
   ]
  },
  {
   "cell_type": "code",
   "execution_count": null,
   "id": "73265a3c-d12a-40e0-9d3c-9643a768142d",
   "metadata": {},
   "outputs": [],
   "source": []
  },
  {
   "cell_type": "code",
   "execution_count": 99,
   "id": "e9bb50e6-34d9-4bc7-a04a-5b47485a3c17",
   "metadata": {},
   "outputs": [],
   "source": [
    "def initialize_parameters(layer_dims):\n",
    "    np.random.seed(3)\n",
    "    parameters = {}\n",
    "    L = len(layer_dims)\n",
    "    for l in range(1,L):\n",
    "        parameters['w'+str(l)] = np.ones((layer_dims[l-1], layer_dims[l])) * 0.1\n",
    "        parameters['b'+str(l)] = np.zeros((layer_dims[l-1], 1))\n",
    "    return parameters"
   ]
  },
  {
   "cell_type": "code",
   "execution_count": 101,
   "id": "fd390054-e7a2-4597-9f26-dc621329734e",
   "metadata": {},
   "outputs": [],
   "source": [
    "#initialize_parameters([2,2,1])"
   ]
  },
  {
   "cell_type": "code",
   "execution_count": 103,
   "id": "10a633c4-0bb3-4cbb-9b71-54eef8aabb39",
   "metadata": {},
   "outputs": [],
   "source": [
    "def linear_forward(A_prev,w,b):\n",
    "    z = np.dot(w.T,A_prev) + b\n",
    "    return z"
   ]
  },
  {
   "cell_type": "code",
   "execution_count": 105,
   "id": "993e3e8c-819d-47b9-ab54-c2b15d6df9cb",
   "metadata": {},
   "outputs": [],
   "source": [
    "def L_layer_forward(X, parameters):\n",
    "    A = X\n",
    "    L = len(parameters) // 2\n",
    "    for l in range(1,L+1):\n",
    "        A_prev = A\n",
    "        wl = parameters['w'+str(l)]\n",
    "        bl = parameters['b'+str(l)]\n",
    "        A = linear_forward(A_prev,wl,bl)\n",
    "    return A, A_prev"
   ]
  },
  {
   "cell_type": "code",
   "execution_count": 115,
   "id": "16aaa2ef-26e0-4c8f-9c7e-161cb17303a2",
   "metadata": {},
   "outputs": [],
   "source": [
    "def update_parameters(parameters,y,y_hat,A1,X):\n",
    "    \n",
    "    parameters['w2'][0][0] = parameters['w2'][0][0] + (0.001 * 2 * (y - y_hat) * A1[0][0])\n",
    "    parameters['w2'][1][0] = parameters['w2'][1][0] + (0.001 * 2 * (y - y_hat) * A1[1][0])\n",
    "    parameters['b2'][1][0] = parameters['b2'][1][0] + (0.001 * 2 * (y - y_hat))\n",
    "    \n",
    "    parameters['w1'][0][0] = parameters['w1'][0][0] + (0.001 * 2 * (y - y_hat) * parameters['w2'][0][0] * X[0][0])\n",
    "    parameters['w1'][0][1] = parameters['w1'][0][1] + (0.001 * 2 * (y - y_hat) * parameters['w2'][0][0] * X[1][0])\n",
    "    parameters['b1'][0][0] = parameters['b1'][0][0] + (0.001 * 2 * (y - y_hat) * parameters['w2'][0][0])\n",
    "    \n",
    "    parameters['w1'][0][0] = parameters['w1'][0][0] + (0.001 * 2 * (y - y_hat) * parameters['w2'][1][0] * X[0][0])\n",
    "    parameters['w1'][1][1] = parameters['w1'][1][1] + (0.001 * 2 * (y - y_hat) * parameters['w2'][1][0] * X[1][0])\n",
    "    parameters['b1'][1][0] = parameters['b1'][1][0] + (0.001 * 2 * (y - y_hat) * parameters['w2'][1][0])\n",
    "    "
   ]
  },
  {
   "cell_type": "code",
   "execution_count": 119,
   "id": "ff2de3f1-1653-4db5-a248-efa0cf9ce403",
   "metadata": {},
   "outputs": [
    {
     "name": "stdout",
     "output_type": "stream",
     "text": [
      "Epoch:  1 loss:  26.540422864710088\n",
      "Epoch:  2 loss:  20.380602560450793\n",
      "Epoch:  3 loss:  11.43017193067472\n",
      "Epoch:  4 loss:  4.2631238998146745\n",
      "Epoch:  5 loss:  1.8089502380838534\n",
      "Epoch:  6 loss:  1.5957597972765236\n",
      "Epoch:  7 loss:  1.6773083330919603\n",
      "Epoch:  8 loss:  1.7079404156081917\n",
      "Epoch:  9 loss:  1.7018650682601848\n",
      "Epoch:  10 loss:  1.682725482548196\n",
      "Epoch:  11 loss:  1.6599746196018192\n",
      "Epoch:  12 loss:  1.6367127788650784\n",
      "Epoch:  13 loss:  1.6138853236055086\n",
      "Epoch:  14 loss:  1.591758041483518\n",
      "Epoch:  15 loss:  1.5703880937350427\n",
      "Epoch:  16 loss:  1.5497698414283223\n",
      "Epoch:  17 loss:  1.5298794384274832\n",
      "Epoch:  18 loss:  1.5106883568985419\n",
      "Epoch:  19 loss:  1.4921674494117576\n",
      "Epoch:  20 loss:  1.474288144312439\n",
      "Epoch:  21 loss:  1.4570227772592177\n",
      "Epoch:  22 loss:  1.440344664044125\n",
      "Epoch:  23 loss:  1.4242280966313305\n",
      "Epoch:  24 loss:  1.408648316862002\n",
      "Epoch:  25 loss:  1.393581484056913\n"
     ]
    },
    {
     "data": {
      "text/plain": [
       "{'w1': array([[0.28980462, 0.50579468],\n",
       "        [0.1       , 0.60514541]]),\n",
       " 'b1': array([[0.02955764],\n",
       "        [0.0345295 ]]),\n",
       " 'w2': array([[0.32791754],\n",
       "        [0.53712221]]),\n",
       " 'b2': array([[0.       ],\n",
       "        [0.1205974]])}"
      ]
     },
     "execution_count": 119,
     "metadata": {},
     "output_type": "execute_result"
    }
   ],
   "source": [
    "epochs = 25\n",
    "parameters = initialize_parameters([2,2,1])\n",
    "#print(parameters)\n",
    "for i in range(epochs):\n",
    "    losses = []\n",
    "    for j in range(df.shape[0]):\n",
    "        X = df[['cgpa','profile_score']].values[j].reshape(2,1)\n",
    "        y = df[['lpa']].values[j][0]\n",
    "\n",
    "        y_hat,A1 = L_layer_forward(X,parameters)\n",
    "        y_hat = y_hat[0][0]\n",
    "        update_parameters(parameters,y,y_hat,A1,X)\n",
    "        losses.append((y-y_hat)**2)\n",
    "    print('Epoch: ',i+1,'loss: ',np.array(losses).mean())\n",
    "\n",
    "parameters\n",
    "            "
   ]
  },
  {
   "cell_type": "code",
   "execution_count": null,
   "id": "f261b53c-2c09-4b88-8893-7031ab548cae",
   "metadata": {},
   "outputs": [],
   "source": []
  }
 ],
 "metadata": {
  "kernelspec": {
   "display_name": "Python 3 (ipykernel)",
   "language": "python",
   "name": "python3"
  },
  "language_info": {
   "codemirror_mode": {
    "name": "ipython",
    "version": 3
   },
   "file_extension": ".py",
   "mimetype": "text/x-python",
   "name": "python",
   "nbconvert_exporter": "python",
   "pygments_lexer": "ipython3",
   "version": "3.11.7"
  }
 },
 "nbformat": 4,
 "nbformat_minor": 5
}
